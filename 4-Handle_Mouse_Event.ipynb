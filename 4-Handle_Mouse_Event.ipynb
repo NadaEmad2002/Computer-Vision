{
 "cells": [
  {
   "cell_type": "markdown",
   "metadata": {},
   "source": [
    "# Handle Mouse Event in OpenCV"
   ]
  },
  {
   "cell_type": "code",
   "execution_count": 1,
   "metadata": {},
   "outputs": [],
   "source": [
    "import cv2 \n",
    "import numpy as np"
   ]
  },
  {
   "cell_type": "code",
   "execution_count": 2,
   "metadata": {},
   "outputs": [
    {
     "name": "stdout",
     "output_type": "stream",
     "text": [
      "1520100\n",
      "253 ,  282\n",
      "445 ,  179\n",
      "445 ,  179\n",
      "241 ,  160\n"
     ]
    }
   ],
   "source": [
    "events = [i for i in dir(cv2) if 'EVENT' in i ]\n",
    "\n",
    "def click_event (event,x,y,flags,param):\n",
    "    if event==cv2.EVENT_LBUTTONDOWN:\n",
    "        print (x,', ',y)\n",
    "        font=cv2.FONT_HERSHEY_SIMPLEX\n",
    "        strXY=str(x)+', '+str(y)\n",
    "        cv2.putText(img,strXY,(x,y),font,.5,(255,255,0),2)\n",
    "        \n",
    "        cv2.imshow('imge',img)\n",
    "    elif event == cv2.EVENT_RBUTTONDOWN:\n",
    "        blue=img[y,x,0]   \n",
    "        green=img[y,x,1]\n",
    "        red=img[y,x,2] \n",
    "        font=cv2.FONT_HERSHEY_SIMPLEX\n",
    "        strBGR=str(blue)+', '+str(green)+', '+str(red)\n",
    "        cv2.putText(img,strBGR,(x,y),font,.5,(0,255,255),2)\n",
    "        \n",
    "        cv2.imshow('image',img)\n",
    "\n",
    "img=cv2.imread('Images/vegetables.jpg')\n",
    "print(img.size) \n",
    "cv2.imshow('image',img)\n",
    "\n",
    "cv2.setMouseCallback('image',click_event)\n",
    "\n",
    "\n",
    "cv2.waitKey(0)\n",
    "cv2.destroyAllWindows()"
   ]
  },
  {
   "cell_type": "markdown",
   "metadata": {},
   "source": [
    "- open new window that colord by color of mouse click position"
   ]
  },
  {
   "cell_type": "code",
   "execution_count": 3,
   "metadata": {},
   "outputs": [],
   "source": [
    "def click_event( event  , x , y , flags , parametar ):\n",
    "    if event == cv2.EVENT_LBUTTONDOWN : \n",
    "        blue = img[y,x,0]\n",
    "        green = img[y,x,1]\n",
    "        red = img[y,x,2]\n",
    "        mycolorimage = np.zeros((512,512,3) , dtype= np.uint8 )\n",
    "        mycolorimage [:] = [blue , green , red]\n",
    "        \n",
    "        cv2.imshow('color' , mycolorimage)\n",
    "\n",
    "\n",
    "img=cv2.imread('Images/vegetables.jpg')\n",
    "cv2.imshow('image',img)\n",
    "\n",
    "\n",
    "cv2.setMouseCallback('image',click_event)\n",
    "\n",
    "cv2.waitKey(0)\n",
    "cv2.destroyAllWindows()\n",
    "    "
   ]
  }
 ],
 "metadata": {
  "kernelspec": {
   "display_name": "Python 3",
   "language": "python",
   "name": "python3"
  },
  "language_info": {
   "codemirror_mode": {
    "name": "ipython",
    "version": 3
   },
   "file_extension": ".py",
   "mimetype": "text/x-python",
   "name": "python",
   "nbconvert_exporter": "python",
   "pygments_lexer": "ipython3",
   "version": "3.12.0"
  }
 },
 "nbformat": 4,
 "nbformat_minor": 2
}
