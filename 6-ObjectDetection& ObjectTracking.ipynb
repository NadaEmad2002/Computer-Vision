{
 "cells": [
  {
   "cell_type": "markdown",
   "metadata": {},
   "source": [
    "# Create Trackbar"
   ]
  },
  {
   "cell_type": "code",
   "execution_count": 1,
   "metadata": {},
   "outputs": [],
   "source": [
    "import cv2 \n",
    "import numpy as np \n",
    "from matplotlib import pyplot as plt"
   ]
  },
  {
   "cell_type": "code",
   "execution_count": 2,
   "metadata": {},
   "outputs": [
    {
     "name": "stdout",
     "output_type": "stream",
     "text": [
      "1\n",
      "51\n",
      "51\n",
      "51\n",
      "52\n",
      "57\n",
      "61\n",
      "70\n",
      "75\n",
      "79\n",
      "88\n",
      "96\n",
      "101\n",
      "104\n",
      "107\n",
      "110\n",
      "112\n",
      "114\n",
      "115\n",
      "116\n",
      "117\n",
      "119\n",
      "120\n"
     ]
    }
   ],
   "source": [
    "def nothing(x):\n",
    "    print(x)\n",
    "\n",
    "img=np.zeros((300,512,3),np.uint8)\n",
    "cv2.namedWindow('image')\n",
    "\n",
    "\n",
    "cv2.createTrackbar('B','image',0,255,nothing)\n",
    "cv2.createTrackbar('G','image',0,255,nothing)\n",
    "cv2.createTrackbar('R','image',0,255,nothing)\n",
    "\n",
    "switch = '0 : OFF\\n 1 : ON'\n",
    "cv2.createTrackbar(switch,'image',0,1,nothing)\n",
    "\n",
    "while(1):\n",
    "    cv2.imshow('image',img)\n",
    "    k=cv2.waitKey(1) & 0xFF\n",
    "    if k == 27:\n",
    "        break\n",
    "\n",
    "    b = cv2.getTrackbarPos('B','image')\n",
    "    g = cv2.getTrackbarPos('G','image')\n",
    "    r = cv2.getTrackbarPos('R','image')\n",
    "    s = cv2.getTrackbarPos(switch,'image')\n",
    "\n",
    "    if s == 0:\n",
    "        img[:] = 0\n",
    "    else:\n",
    "        img[:] = [b,g,r]\n",
    "\n",
    "  \n",
    "cv2.destroyAllWindows()"
   ]
  },
  {
   "cell_type": "markdown",
   "metadata": {},
   "source": [
    "# Object Detection and Object Tracking Using HSV Color Space "
   ]
  },
  {
   "cell_type": "code",
   "execution_count": null,
   "metadata": {},
   "outputs": [],
   "source": [
    "\n",
    "def nothing(x):\n",
    "\n",
    "    pass    \n",
    "\n",
    "cv2.namedWindow(\"Tracking\")\n",
    "\n",
    "cv2.createTrackbar(\"LH\", \"Tracking\", 0, 255, nothing)\n",
    "cv2.createTrackbar(\"LS\", \"Tracking\", 0, 255, nothing)\n",
    "cv2.createTrackbar(\"LV\", \"Tracking\", 0, 255, nothing)\n",
    "cv2.createTrackbar(\"UH\", \"Tracking\", 255, 255, nothing)\n",
    "cv2.createTrackbar(\"US\", \"Tracking\", 255, 255, nothing)\n",
    "cv2.createTrackbar(\"UV\", \"Tracking\", 255, 255, nothing)\n",
    "\n",
    "while True:\n",
    "\n",
    "    frame = cv2.imread('Images/ball_color.png')      \n",
    "\n",
    "    hsv = cv2.cvtColor(frame, cv2.COLOR_BGR2HSV)       \n",
    "\n",
    "    l_h = cv2.getTrackbarPos(\"LH\", \"Tracking\")       \n",
    "    l_s = cv2.getTrackbarPos(\"LS\", \"Tracking\")       \n",
    "    l_v = cv2.getTrackbarPos(\"LV\", \"Tracking\")       \n",
    "\n",
    "    u_h = cv2.getTrackbarPos(\"UH\", \"Tracking\")       \n",
    "    u_s = cv2.getTrackbarPos(\"US\", \"Tracking\")       \n",
    "    u_v = cv2.getTrackbarPos(\"UV\", \"Tracking\")       \n",
    "\n",
    "    l_b = np.array([l_h, l_s, l_v])       \n",
    "    u_b = np.array([u_h, u_s, u_v])       \n",
    "\n",
    "    mask = cv2.inRange(hsv, l_b, u_b)       \n",
    "\n",
    "    res = cv2.bitwise_and(frame, frame, mask=mask)        \n",
    "\n",
    "    cv2.imshow(\"frame\", frame)        \n",
    "    cv2.imshow(\"mask\", mask)        \n",
    "    cv2.imshow(\"res\", res)        \n",
    "\n",
    "    key = cv2.waitKey(1)         \n",
    "    if key == 27:        \n",
    "\n",
    "        break               \n",
    "\n",
    "cv2.destroyAllWindows() #colse window"
   ]
  },
  {
   "cell_type": "markdown",
   "metadata": {},
   "source": [
    "# HSV_color_picker"
   ]
  },
  {
   "cell_type": "code",
   "execution_count": 3,
   "metadata": {},
   "outputs": [],
   "source": [
    "def nothing(x):\n",
    "    pass\n",
    "\n",
    "# Trackbar\n",
    "cv2.namedWindow(\"frame\")\n",
    "cv2.createTrackbar(\"H\", \"frame\", 0, 179, nothing)\n",
    "cv2.createTrackbar(\"S\", \"frame\", 255, 255, nothing)\n",
    "cv2.createTrackbar(\"V\", \"frame\", 255, 255, nothing)\n",
    "\n",
    "img_hsv = np.zeros((250, 500, 3), np.uint8)\n",
    "\n",
    "while True:\n",
    "    h = cv2.getTrackbarPos(\"H\", \"frame\")\n",
    "    s = cv2.getTrackbarPos(\"S\", \"frame\")\n",
    "    v = cv2.getTrackbarPos(\"V\", \"frame\")\n",
    "\n",
    "    img_hsv[:] = (h, s, v)\n",
    "    img_bgr = cv2.cvtColor(img_hsv, cv2.COLOR_HSV2BGR)\n",
    "\n",
    "    cv2.imshow(\"frame\", img_bgr)\n",
    "    key = cv2.waitKey(1)\n",
    "    if key == 27:\n",
    "        break\n",
    "\n",
    "\n",
    "cv2.destroyAllWindows()"
   ]
  },
  {
   "cell_type": "markdown",
   "metadata": {},
   "source": [
    "- Color Recognition"
   ]
  },
  {
   "cell_type": "code",
   "execution_count": 2,
   "metadata": {},
   "outputs": [],
   "source": [
    "cap = cv2.VideoCapture(0)\n",
    "cap.set(cv2.CAP_PROP_FRAME_HEIGHT,720)\n",
    "cap.set(cv2.CAP_PROP_FRAME_WIDTH,1280)\n",
    "\n",
    "while True:\n",
    "    _, frame = cap.read()\n",
    "    hsv_frame = cv2.cvtColor(frame , cv2.COLOR_BGR2HSV)\n",
    "    height, width, _= frame.shape\n",
    "\n",
    "    cx = int(width/ 2)\n",
    "    cy = int(height/ 2)\n",
    "\n",
    "    # pick pixel value \n",
    "    pixel_center = hsv_frame[cy,cx]\n",
    "    hue_value = pixel_center[0]\n",
    "\n",
    "    color = 'Undefined'\n",
    "    if hue_value < 5 :\n",
    "        color = 'RED'\n",
    "    elif hue_value < 22 :\n",
    "        color = 'ORANGE'\n",
    "    elif hue_value < 33 :\n",
    "        color = 'YELLOW'\n",
    "    elif hue_value < 78 :\n",
    "        color = 'GREEN'\n",
    "    elif hue_value < 131 :\n",
    "        color = 'BLUE'  \n",
    "    elif hue_value < 170 :\n",
    "        color = 'VIOLET'\n",
    "    else:\n",
    "        color = 'RED'\n",
    "\n",
    "    pixel_center_bgr = frame[cy,cx]\n",
    "    b,g,r = int(pixel_center_bgr[0]),int(pixel_center_bgr[1]),int(pixel_center_bgr[2])\n",
    "\n",
    "    cv2.rectangle(frame,(cx - 220,10),(cy + 200,120),(500,255,255),-1)\n",
    "    cv2.putText(frame,color,(cx - 200,100),0,3,(b,g,r),5)\n",
    "    cv2.circle(frame,(cx,cy),5,(25,25,25),3)\n",
    "    cv2.imshow('Frame',frame)\n",
    "\n",
    "    #out.write(frame)  # save the video\n",
    "\n",
    "    key = cv2.waitKey(1)\n",
    "    if key == 27:\n",
    "        break\n",
    "\n",
    "cap.release()\n",
    "\n",
    "cv2.destroyAllWindows()"
   ]
  }
 ],
 "metadata": {
  "kernelspec": {
   "display_name": "Python 3",
   "language": "python",
   "name": "python3"
  },
  "language_info": {
   "codemirror_mode": {
    "name": "ipython",
    "version": 3
   },
   "file_extension": ".py",
   "mimetype": "text/x-python",
   "name": "python",
   "nbconvert_exporter": "python",
   "pygments_lexer": "ipython3",
   "version": "3.12.0"
  }
 },
 "nbformat": 4,
 "nbformat_minor": 2
}
